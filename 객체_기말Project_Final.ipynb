{
 "cells": [
  {
   "cell_type": "code",
   "execution_count": 149,
   "metadata": {
    "id": "x8fKg2w4t05R"
   },
   "outputs": [],
   "source": [
    "import pandas as pd\n",
    "import numpy as np\n",
    "import pandas_datareader.data as web\n",
    "from datetime import datetime\n",
    "import os\n",
    "import warnings\n",
    "import matplotlib.pyplot as plt \n",
    "import keras"
   ]
  },
  {
   "cell_type": "code",
   "execution_count": 150,
   "metadata": {
    "colab": {
     "base_uri": "https://localhost:8080/"
    },
    "id": "Pa42QHESt05Z",
    "outputId": "483175c9-da8b-4c29-bd14-805ecafb4548"
   },
   "outputs": [],
   "source": [
    "#예측하려는 삼성 주가 데이터 csv 파일을 판다스를 이용해서 불러온다\n",
    "samsung = pd.read_csv('삼성3.csv') "
   ]
  },
  {
   "cell_type": "code",
   "execution_count": 151,
   "metadata": {
    "id": "8GkNUEVMyjam"
   },
   "outputs": [],
   "source": [
    "#데이터를 정규화해주기 위한 min_max sclaer 함수\n",
    "def min_max_scaling(x):\n",
    "    x_np = np.asarray(x)\n",
    "    return (x_np - x_np.min()) / (x_np.max() - x_np.min() + 1e-7) "
   ]
  },
  {
   "cell_type": "code",
   "execution_count": 152,
   "metadata": {
    "id": "wARG215SykII"
   },
   "outputs": [],
   "source": [
    "#정규화된 예측값을 역정규화해주기 위한 inverse scaling 함수\n",
    "def reverse_min_max_scaling(org_x, x):\n",
    "    org_x_np = np.asarray(org_x)\n",
    "    x_np = np.asarray(x)\n",
    "    return (x_np * (org_x_np.max() - org_x_np.min() + 1e-7)) + org_x_np.min()"
   ]
  },
  {
   "cell_type": "code",
   "execution_count": 153,
   "metadata": {
    "colab": {
     "base_uri": "https://localhost:8080/",
     "height": 197
    },
    "id": "W_2L682Qt05d",
    "outputId": "2939daca-f393-4b61-d686-96231e5bbabb"
   },
   "outputs": [
    {
     "data": {
      "text/html": [
       "<div>\n",
       "<style scoped>\n",
       "    .dataframe tbody tr th:only-of-type {\n",
       "        vertical-align: middle;\n",
       "    }\n",
       "\n",
       "    .dataframe tbody tr th {\n",
       "        vertical-align: top;\n",
       "    }\n",
       "\n",
       "    .dataframe thead th {\n",
       "        text-align: right;\n",
       "    }\n",
       "</style>\n",
       "<table border=\"1\" class=\"dataframe\">\n",
       "  <thead>\n",
       "    <tr style=\"text-align: right;\">\n",
       "      <th></th>\n",
       "      <th>Date</th>\n",
       "      <th>Open</th>\n",
       "      <th>High</th>\n",
       "      <th>Low</th>\n",
       "      <th>Close</th>\n",
       "      <th>12-day ema</th>\n",
       "      <th>26-day ema</th>\n",
       "      <th>MACD</th>\n",
       "      <th>Volume</th>\n",
       "    </tr>\n",
       "  </thead>\n",
       "  <tbody>\n",
       "    <tr>\n",
       "      <th>0</th>\n",
       "      <td>00-01-04</td>\n",
       "      <td>6000</td>\n",
       "      <td>6110</td>\n",
       "      <td>5660</td>\n",
       "      <td>6110</td>\n",
       "      <td>NaN</td>\n",
       "      <td>NaN</td>\n",
       "      <td>NaN</td>\n",
       "      <td>74195000.0</td>\n",
       "    </tr>\n",
       "    <tr>\n",
       "      <th>1</th>\n",
       "      <td>00-01-05</td>\n",
       "      <td>5800</td>\n",
       "      <td>6060</td>\n",
       "      <td>5520</td>\n",
       "      <td>5580</td>\n",
       "      <td>NaN</td>\n",
       "      <td>NaN</td>\n",
       "      <td>NaN</td>\n",
       "      <td>74680000.0</td>\n",
       "    </tr>\n",
       "    <tr>\n",
       "      <th>2</th>\n",
       "      <td>00-01-06</td>\n",
       "      <td>5750</td>\n",
       "      <td>5780</td>\n",
       "      <td>5580</td>\n",
       "      <td>5620</td>\n",
       "      <td>NaN</td>\n",
       "      <td>NaN</td>\n",
       "      <td>NaN</td>\n",
       "      <td>54390000.0</td>\n",
       "    </tr>\n",
       "    <tr>\n",
       "      <th>3</th>\n",
       "      <td>00-01-07</td>\n",
       "      <td>5560</td>\n",
       "      <td>5670</td>\n",
       "      <td>5360</td>\n",
       "      <td>5540</td>\n",
       "      <td>NaN</td>\n",
       "      <td>NaN</td>\n",
       "      <td>NaN</td>\n",
       "      <td>40305000.0</td>\n",
       "    </tr>\n",
       "    <tr>\n",
       "      <th>4</th>\n",
       "      <td>00-01-10</td>\n",
       "      <td>5600</td>\n",
       "      <td>5770</td>\n",
       "      <td>5580</td>\n",
       "      <td>5770</td>\n",
       "      <td>NaN</td>\n",
       "      <td>NaN</td>\n",
       "      <td>NaN</td>\n",
       "      <td>46880000.0</td>\n",
       "    </tr>\n",
       "  </tbody>\n",
       "</table>\n",
       "</div>"
      ],
      "text/plain": [
       "       Date  Open  High   Low  Close  12-day ema  26-day ema  MACD      Volume\n",
       "0  00-01-04  6000  6110  5660   6110         NaN         NaN   NaN  74195000.0\n",
       "1  00-01-05  5800  6060  5520   5580         NaN         NaN   NaN  74680000.0\n",
       "2  00-01-06  5750  5780  5580   5620         NaN         NaN   NaN  54390000.0\n",
       "3  00-01-07  5560  5670  5360   5540         NaN         NaN   NaN  40305000.0\n",
       "4  00-01-10  5600  5770  5580   5770         NaN         NaN   NaN  46880000.0"
      ]
     },
     "execution_count": 153,
     "metadata": {},
     "output_type": "execute_result"
    }
   ],
   "source": [
    "samsung.head()"
   ]
  },
  {
   "cell_type": "code",
   "execution_count": 154,
   "metadata": {
    "id": "v_oH1YiXt05p"
   },
   "outputs": [],
   "source": [
    "#예측에 사용하지 않을 ema data부분을 삭제한다\n",
    "del samsung['12-day ema']\n",
    "del samsung['26-day ema']"
   ]
  },
  {
   "cell_type": "code",
   "execution_count": 155,
   "metadata": {
    "id": "RifGIzLlt050"
   },
   "outputs": [],
   "source": [
    "#0행부터 23행까지의 데이터에는 NAN이 포함되어 있으므로 데이터셋에서 제외시켜준다\n",
    "for i in range(0,24):\n",
    "    samsung.drop([i],axis = 'rows',inplace = True)    "
   ]
  },
  {
   "cell_type": "code",
   "execution_count": 156,
   "metadata": {
    "colab": {
     "base_uri": "https://localhost:8080/",
     "height": 197
    },
    "id": "R1M8urNit06H",
    "outputId": "17340ede-ea37-4bb8-91ee-61966e3c4bb8"
   },
   "outputs": [
    {
     "data": {
      "text/html": [
       "<div>\n",
       "<style scoped>\n",
       "    .dataframe tbody tr th:only-of-type {\n",
       "        vertical-align: middle;\n",
       "    }\n",
       "\n",
       "    .dataframe tbody tr th {\n",
       "        vertical-align: top;\n",
       "    }\n",
       "\n",
       "    .dataframe thead th {\n",
       "        text-align: right;\n",
       "    }\n",
       "</style>\n",
       "<table border=\"1\" class=\"dataframe\">\n",
       "  <thead>\n",
       "    <tr style=\"text-align: right;\">\n",
       "      <th></th>\n",
       "      <th>Date</th>\n",
       "      <th>Open</th>\n",
       "      <th>High</th>\n",
       "      <th>Low</th>\n",
       "      <th>Close</th>\n",
       "      <th>MACD</th>\n",
       "      <th>Volume</th>\n",
       "    </tr>\n",
       "  </thead>\n",
       "  <tbody>\n",
       "    <tr>\n",
       "      <th>24</th>\n",
       "      <td>00-02-08</td>\n",
       "      <td>5340</td>\n",
       "      <td>5480</td>\n",
       "      <td>5310</td>\n",
       "      <td>5430</td>\n",
       "      <td>5013.554796</td>\n",
       "      <td>58460000.0</td>\n",
       "    </tr>\n",
       "    <tr>\n",
       "      <th>25</th>\n",
       "      <td>00-02-09</td>\n",
       "      <td>5560</td>\n",
       "      <td>5720</td>\n",
       "      <td>5480</td>\n",
       "      <td>5720</td>\n",
       "      <td>5073.230262</td>\n",
       "      <td>51050000.0</td>\n",
       "    </tr>\n",
       "    <tr>\n",
       "      <th>26</th>\n",
       "      <td>00-02-10</td>\n",
       "      <td>5660</td>\n",
       "      <td>5880</td>\n",
       "      <td>5600</td>\n",
       "      <td>5760</td>\n",
       "      <td>5114.508874</td>\n",
       "      <td>61845000.0</td>\n",
       "    </tr>\n",
       "    <tr>\n",
       "      <th>27</th>\n",
       "      <td>00-02-11</td>\n",
       "      <td>5960</td>\n",
       "      <td>5960</td>\n",
       "      <td>5680</td>\n",
       "      <td>5700</td>\n",
       "      <td>5148.340026</td>\n",
       "      <td>34660000.0</td>\n",
       "    </tr>\n",
       "    <tr>\n",
       "      <th>28</th>\n",
       "      <td>00-02-14</td>\n",
       "      <td>5600</td>\n",
       "      <td>5660</td>\n",
       "      <td>5340</td>\n",
       "      <td>5380</td>\n",
       "      <td>5147.052953</td>\n",
       "      <td>44140000.0</td>\n",
       "    </tr>\n",
       "  </tbody>\n",
       "</table>\n",
       "</div>"
      ],
      "text/plain": [
       "        Date  Open  High   Low  Close         MACD      Volume\n",
       "24  00-02-08  5340  5480  5310   5430  5013.554796  58460000.0\n",
       "25  00-02-09  5560  5720  5480   5720  5073.230262  51050000.0\n",
       "26  00-02-10  5660  5880  5600   5760  5114.508874  61845000.0\n",
       "27  00-02-11  5960  5960  5680   5700  5148.340026  34660000.0\n",
       "28  00-02-14  5600  5660  5340   5380  5147.052953  44140000.0"
      ]
     },
     "execution_count": 156,
     "metadata": {},
     "output_type": "execute_result"
    }
   ],
   "source": [
    "samsung.head()"
   ]
  },
  {
   "cell_type": "code",
   "execution_count": 157,
   "metadata": {
    "colab": {
     "base_uri": "https://localhost:8080/",
     "height": 282
    },
    "id": "RUuF0nKct06M",
    "outputId": "fa0050dc-b585-42da-ed03-a33e712a969d"
   },
   "outputs": [
    {
     "data": {
      "text/plain": [
       "[<matplotlib.lines.Line2D at 0x285171e1f08>]"
      ]
     },
     "execution_count": 157,
     "metadata": {},
     "output_type": "execute_result"
    },
    {
     "data": {
      "image/png": "[encoded data removed]",
      "text/plain": [
       "<Figure size 432x288 with 1 Axes>"
      ]
     },
     "metadata": {
      "needs_background": "light"
     },
     "output_type": "display_data"
    }
   ],
   "source": [
    "plt.plot(samsung.Close)"
   ]
  },
  {
   "cell_type": "code",
   "execution_count": 158,
   "metadata": {
    "colab": {
     "base_uri": "https://localhost:8080/",
     "height": 197
    },
    "id": "RrLC-FK7t06Q",
    "outputId": "d0056662-4bdb-4ba3-dd47-b8c4a5b95e00"
   },
   "outputs": [
    {
     "data": {
      "text/html": [
       "<div>\n",
       "<style scoped>\n",
       "    .dataframe tbody tr th:only-of-type {\n",
       "        vertical-align: middle;\n",
       "    }\n",
       "\n",
       "    .dataframe tbody tr th {\n",
       "        vertical-align: top;\n",
       "    }\n",
       "\n",
       "    .dataframe thead th {\n",
       "        text-align: right;\n",
       "    }\n",
       "</style>\n",
       "<table border=\"1\" class=\"dataframe\">\n",
       "  <thead>\n",
       "    <tr style=\"text-align: right;\">\n",
       "      <th></th>\n",
       "      <th>Open</th>\n",
       "      <th>High</th>\n",
       "      <th>Low</th>\n",
       "      <th>Close</th>\n",
       "      <th>MACD</th>\n",
       "      <th>Volume</th>\n",
       "    </tr>\n",
       "  </thead>\n",
       "  <tbody>\n",
       "    <tr>\n",
       "      <th>24</th>\n",
       "      <td>5340</td>\n",
       "      <td>5480</td>\n",
       "      <td>5310</td>\n",
       "      <td>5430</td>\n",
       "      <td>5013.554796</td>\n",
       "      <td>58460000.0</td>\n",
       "    </tr>\n",
       "    <tr>\n",
       "      <th>25</th>\n",
       "      <td>5560</td>\n",
       "      <td>5720</td>\n",
       "      <td>5480</td>\n",
       "      <td>5720</td>\n",
       "      <td>5073.230262</td>\n",
       "      <td>51050000.0</td>\n",
       "    </tr>\n",
       "    <tr>\n",
       "      <th>26</th>\n",
       "      <td>5660</td>\n",
       "      <td>5880</td>\n",
       "      <td>5600</td>\n",
       "      <td>5760</td>\n",
       "      <td>5114.508874</td>\n",
       "      <td>61845000.0</td>\n",
       "    </tr>\n",
       "    <tr>\n",
       "      <th>27</th>\n",
       "      <td>5960</td>\n",
       "      <td>5960</td>\n",
       "      <td>5680</td>\n",
       "      <td>5700</td>\n",
       "      <td>5148.340026</td>\n",
       "      <td>34660000.0</td>\n",
       "    </tr>\n",
       "    <tr>\n",
       "      <th>28</th>\n",
       "      <td>5600</td>\n",
       "      <td>5660</td>\n",
       "      <td>5340</td>\n",
       "      <td>5380</td>\n",
       "      <td>5147.052953</td>\n",
       "      <td>44140000.0</td>\n",
       "    </tr>\n",
       "  </tbody>\n",
       "</table>\n",
       "</div>"
      ],
      "text/plain": [
       "    Open  High   Low  Close         MACD      Volume\n",
       "24  5340  5480  5310   5430  5013.554796  58460000.0\n",
       "25  5560  5720  5480   5720  5073.230262  51050000.0\n",
       "26  5660  5880  5600   5760  5114.508874  61845000.0\n",
       "27  5960  5960  5680   5700  5148.340026  34660000.0\n",
       "28  5600  5660  5340   5380  5147.052953  44140000.0"
      ]
     },
     "execution_count": 158,
     "metadata": {},
     "output_type": "execute_result"
    }
   ],
   "source": [
    "del samsung['Date']\n",
    "samsung.head()"
   ]
  },
  {
   "cell_type": "code",
   "execution_count": 159,
   "metadata": {
    "colab": {
     "base_uri": "https://localhost:8080/",
     "height": 406
    },
    "id": "kyfa7dQ4DDJH",
    "outputId": "f4c5075d-3616-476a-915e-79da71f85060"
   },
   "outputs": [
    {
     "data": {
      "text/html": [
       "<div>\n",
       "<style scoped>\n",
       "    .dataframe tbody tr th:only-of-type {\n",
       "        vertical-align: middle;\n",
       "    }\n",
       "\n",
       "    .dataframe tbody tr th {\n",
       "        vertical-align: top;\n",
       "    }\n",
       "\n",
       "    .dataframe thead th {\n",
       "        text-align: right;\n",
       "    }\n",
       "</style>\n",
       "<table border=\"1\" class=\"dataframe\">\n",
       "  <thead>\n",
       "    <tr style=\"text-align: right;\">\n",
       "      <th></th>\n",
       "      <th>Open</th>\n",
       "      <th>High</th>\n",
       "      <th>Low</th>\n",
       "      <th>Close</th>\n",
       "      <th>MACD</th>\n",
       "      <th>Volume</th>\n",
       "      <th>Close tmr</th>\n",
       "    </tr>\n",
       "  </thead>\n",
       "  <tbody>\n",
       "    <tr>\n",
       "      <th>24</th>\n",
       "      <td>5340</td>\n",
       "      <td>5480</td>\n",
       "      <td>5310</td>\n",
       "      <td>5430</td>\n",
       "      <td>5013.554796</td>\n",
       "      <td>5.846000e+07</td>\n",
       "      <td>5720.0</td>\n",
       "    </tr>\n",
       "    <tr>\n",
       "      <th>25</th>\n",
       "      <td>5560</td>\n",
       "      <td>5720</td>\n",
       "      <td>5480</td>\n",
       "      <td>5720</td>\n",
       "      <td>5073.230262</td>\n",
       "      <td>5.105000e+07</td>\n",
       "      <td>5760.0</td>\n",
       "    </tr>\n",
       "    <tr>\n",
       "      <th>26</th>\n",
       "      <td>5660</td>\n",
       "      <td>5880</td>\n",
       "      <td>5600</td>\n",
       "      <td>5760</td>\n",
       "      <td>5114.508874</td>\n",
       "      <td>6.184500e+07</td>\n",
       "      <td>5700.0</td>\n",
       "    </tr>\n",
       "    <tr>\n",
       "      <th>27</th>\n",
       "      <td>5960</td>\n",
       "      <td>5960</td>\n",
       "      <td>5680</td>\n",
       "      <td>5700</td>\n",
       "      <td>5148.340026</td>\n",
       "      <td>3.466000e+07</td>\n",
       "      <td>5380.0</td>\n",
       "    </tr>\n",
       "    <tr>\n",
       "      <th>28</th>\n",
       "      <td>5600</td>\n",
       "      <td>5660</td>\n",
       "      <td>5340</td>\n",
       "      <td>5380</td>\n",
       "      <td>5147.052953</td>\n",
       "      <td>4.414000e+07</td>\n",
       "      <td>5200.0</td>\n",
       "    </tr>\n",
       "    <tr>\n",
       "      <th>...</th>\n",
       "      <td>...</td>\n",
       "      <td>...</td>\n",
       "      <td>...</td>\n",
       "      <td>...</td>\n",
       "      <td>...</td>\n",
       "      <td>...</td>\n",
       "      <td>...</td>\n",
       "    </tr>\n",
       "    <tr>\n",
       "      <th>5230</th>\n",
       "      <td>59000</td>\n",
       "      <td>60300</td>\n",
       "      <td>58800</td>\n",
       "      <td>60300</td>\n",
       "      <td>4157.306596</td>\n",
       "      <td>5.489223e+04</td>\n",
       "      <td>60100.0</td>\n",
       "    </tr>\n",
       "    <tr>\n",
       "      <th>5231</th>\n",
       "      <td>60700</td>\n",
       "      <td>60800</td>\n",
       "      <td>59600</td>\n",
       "      <td>60100</td>\n",
       "      <td>4132.059037</td>\n",
       "      <td>5.507908e+04</td>\n",
       "      <td>60200.0</td>\n",
       "    </tr>\n",
       "    <tr>\n",
       "      <th>5232</th>\n",
       "      <td>60700</td>\n",
       "      <td>60900</td>\n",
       "      <td>60100</td>\n",
       "      <td>60200</td>\n",
       "      <td>4141.408564</td>\n",
       "      <td>5.522187e+04</td>\n",
       "      <td>60200.0</td>\n",
       "    </tr>\n",
       "    <tr>\n",
       "      <th>5233</th>\n",
       "      <td>60500</td>\n",
       "      <td>60500</td>\n",
       "      <td>59500</td>\n",
       "      <td>60200</td>\n",
       "      <td>4140.689370</td>\n",
       "      <td>5.535131e+04</td>\n",
       "      <td>61300.0</td>\n",
       "    </tr>\n",
       "    <tr>\n",
       "      <th>5234</th>\n",
       "      <td>60700</td>\n",
       "      <td>61400</td>\n",
       "      <td>60400</td>\n",
       "      <td>61300</td>\n",
       "      <td>4222.226174</td>\n",
       "      <td>5.554793e+04</td>\n",
       "      <td>NaN</td>\n",
       "    </tr>\n",
       "  </tbody>\n",
       "</table>\n",
       "<p>5211 rows × 7 columns</p>\n",
       "</div>"
      ],
      "text/plain": [
       "       Open   High    Low  Close         MACD        Volume  Close tmr\n",
       "24     5340   5480   5310   5430  5013.554796  5.846000e+07     5720.0\n",
       "25     5560   5720   5480   5720  5073.230262  5.105000e+07     5760.0\n",
       "26     5660   5880   5600   5760  5114.508874  6.184500e+07     5700.0\n",
       "27     5960   5960   5680   5700  5148.340026  3.466000e+07     5380.0\n",
       "28     5600   5660   5340   5380  5147.052953  4.414000e+07     5200.0\n",
       "...     ...    ...    ...    ...          ...           ...        ...\n",
       "5230  59000  60300  58800  60300  4157.306596  5.489223e+04    60100.0\n",
       "5231  60700  60800  59600  60100  4132.059037  5.507908e+04    60200.0\n",
       "5232  60700  60900  60100  60200  4141.408564  5.522187e+04    60200.0\n",
       "5233  60500  60500  59500  60200  4140.689370  5.535131e+04    61300.0\n",
       "5234  60700  61400  60400  61300  4222.226174  5.554793e+04        NaN\n",
       "\n",
       "[5211 rows x 7 columns]"
      ]
     },
     "execution_count": 159,
     "metadata": {},
     "output_type": "execute_result"
    }
   ],
   "source": [
    "#새로운 열 Close tmr을 추가하여, 내일의 종가를 입력한다 -> 프로젝트의 목표인 다음날 종가 예측을 위한 전처리 과정\n",
    "samsung[\"Close tmr\"] = samsung.Close.shift(-1)\n",
    "samsung"
   ]
  },
  {
   "cell_type": "code",
   "execution_count": 160,
   "metadata": {
    "id": "9NpmRyfT_pd2",
    "scrolled": false
   },
   "outputs": [],
   "source": [
    "#마지막 행 NAN으로 인한 삭제\n",
    "samsung.drop([5234],axis = 'rows',inplace =True)"
   ]
  },
  {
   "cell_type": "code",
   "execution_count": 161,
   "metadata": {
    "id": "Cp_0xtUOt06T"
   },
   "outputs": [],
   "source": [
    "#initial data를 유지하면서 data를 조작하기 위해 새로운 dataframe에 기존 data를 copy한다.\n",
    "samsung_new = samsung.copy()"
   ]
  },
  {
   "cell_type": "code",
   "execution_count": 162,
   "metadata": {
    "colab": {
     "base_uri": "https://localhost:8080/",
     "height": 406
    },
    "id": "IHsXuBJjt06Y",
    "outputId": "1ff55e11-8262-4fbe-c5d0-99693f9ad417"
   },
   "outputs": [
    {
     "data": {
      "text/html": [
       "<div>\n",
       "<style scoped>\n",
       "    .dataframe tbody tr th:only-of-type {\n",
       "        vertical-align: middle;\n",
       "    }\n",
       "\n",
       "    .dataframe tbody tr th {\n",
       "        vertical-align: top;\n",
       "    }\n",
       "\n",
       "    .dataframe thead th {\n",
       "        text-align: right;\n",
       "    }\n",
       "</style>\n",
       "<table border=\"1\" class=\"dataframe\">\n",
       "  <thead>\n",
       "    <tr style=\"text-align: right;\">\n",
       "      <th></th>\n",
       "      <th>Open</th>\n",
       "      <th>High</th>\n",
       "      <th>Low</th>\n",
       "      <th>Close</th>\n",
       "      <th>MACD</th>\n",
       "      <th>Volume</th>\n",
       "      <th>Close tmr</th>\n",
       "    </tr>\n",
       "  </thead>\n",
       "  <tbody>\n",
       "    <tr>\n",
       "      <th>24</th>\n",
       "      <td>5340</td>\n",
       "      <td>5480</td>\n",
       "      <td>5310</td>\n",
       "      <td>5430</td>\n",
       "      <td>5013.554796</td>\n",
       "      <td>5.846000e+07</td>\n",
       "      <td>5720.0</td>\n",
       "    </tr>\n",
       "    <tr>\n",
       "      <th>25</th>\n",
       "      <td>5560</td>\n",
       "      <td>5720</td>\n",
       "      <td>5480</td>\n",
       "      <td>5720</td>\n",
       "      <td>5073.230262</td>\n",
       "      <td>5.105000e+07</td>\n",
       "      <td>5760.0</td>\n",
       "    </tr>\n",
       "    <tr>\n",
       "      <th>26</th>\n",
       "      <td>5660</td>\n",
       "      <td>5880</td>\n",
       "      <td>5600</td>\n",
       "      <td>5760</td>\n",
       "      <td>5114.508874</td>\n",
       "      <td>6.184500e+07</td>\n",
       "      <td>5700.0</td>\n",
       "    </tr>\n",
       "    <tr>\n",
       "      <th>27</th>\n",
       "      <td>5960</td>\n",
       "      <td>5960</td>\n",
       "      <td>5680</td>\n",
       "      <td>5700</td>\n",
       "      <td>5148.340026</td>\n",
       "      <td>3.466000e+07</td>\n",
       "      <td>5380.0</td>\n",
       "    </tr>\n",
       "    <tr>\n",
       "      <th>28</th>\n",
       "      <td>5600</td>\n",
       "      <td>5660</td>\n",
       "      <td>5340</td>\n",
       "      <td>5380</td>\n",
       "      <td>5147.052953</td>\n",
       "      <td>4.414000e+07</td>\n",
       "      <td>5200.0</td>\n",
       "    </tr>\n",
       "    <tr>\n",
       "      <th>...</th>\n",
       "      <td>...</td>\n",
       "      <td>...</td>\n",
       "      <td>...</td>\n",
       "      <td>...</td>\n",
       "      <td>...</td>\n",
       "      <td>...</td>\n",
       "      <td>...</td>\n",
       "    </tr>\n",
       "    <tr>\n",
       "      <th>5229</th>\n",
       "      <td>58900</td>\n",
       "      <td>59000</td>\n",
       "      <td>57800</td>\n",
       "      <td>58500</td>\n",
       "      <td>4021.680924</td>\n",
       "      <td>5.480049e+04</td>\n",
       "      <td>60300.0</td>\n",
       "    </tr>\n",
       "    <tr>\n",
       "      <th>5230</th>\n",
       "      <td>59000</td>\n",
       "      <td>60300</td>\n",
       "      <td>58800</td>\n",
       "      <td>60300</td>\n",
       "      <td>4157.306596</td>\n",
       "      <td>5.489223e+04</td>\n",
       "      <td>60100.0</td>\n",
       "    </tr>\n",
       "    <tr>\n",
       "      <th>5231</th>\n",
       "      <td>60700</td>\n",
       "      <td>60800</td>\n",
       "      <td>59600</td>\n",
       "      <td>60100</td>\n",
       "      <td>4132.059037</td>\n",
       "      <td>5.507908e+04</td>\n",
       "      <td>60200.0</td>\n",
       "    </tr>\n",
       "    <tr>\n",
       "      <th>5232</th>\n",
       "      <td>60700</td>\n",
       "      <td>60900</td>\n",
       "      <td>60100</td>\n",
       "      <td>60200</td>\n",
       "      <td>4141.408564</td>\n",
       "      <td>5.522187e+04</td>\n",
       "      <td>60200.0</td>\n",
       "    </tr>\n",
       "    <tr>\n",
       "      <th>5233</th>\n",
       "      <td>60500</td>\n",
       "      <td>60500</td>\n",
       "      <td>59500</td>\n",
       "      <td>60200</td>\n",
       "      <td>4140.689370</td>\n",
       "      <td>5.535131e+04</td>\n",
       "      <td>61300.0</td>\n",
       "    </tr>\n",
       "  </tbody>\n",
       "</table>\n",
       "<p>5210 rows × 7 columns</p>\n",
       "</div>"
      ],
      "text/plain": [
       "       Open   High    Low  Close         MACD        Volume  Close tmr\n",
       "24     5340   5480   5310   5430  5013.554796  5.846000e+07     5720.0\n",
       "25     5560   5720   5480   5720  5073.230262  5.105000e+07     5760.0\n",
       "26     5660   5880   5600   5760  5114.508874  6.184500e+07     5700.0\n",
       "27     5960   5960   5680   5700  5148.340026  3.466000e+07     5380.0\n",
       "28     5600   5660   5340   5380  5147.052953  4.414000e+07     5200.0\n",
       "...     ...    ...    ...    ...          ...           ...        ...\n",
       "5229  58900  59000  57800  58500  4021.680924  5.480049e+04    60300.0\n",
       "5230  59000  60300  58800  60300  4157.306596  5.489223e+04    60100.0\n",
       "5231  60700  60800  59600  60100  4132.059037  5.507908e+04    60200.0\n",
       "5232  60700  60900  60100  60200  4141.408564  5.522187e+04    60200.0\n",
       "5233  60500  60500  59500  60200  4140.689370  5.535131e+04    61300.0\n",
       "\n",
       "[5210 rows x 7 columns]"
      ]
     },
     "execution_count": 162,
     "metadata": {},
     "output_type": "execute_result"
    }
   ],
   "source": [
    "samsung_new"
   ]
  },
  {
   "cell_type": "code",
   "execution_count": 163,
   "metadata": {
    "colab": {
     "base_uri": "https://localhost:8080/"
    },
    "id": "N2AcMsDz2QcA",
    "outputId": "5139dcd3-ff6b-497f-ac46-45092206ec51"
   },
   "outputs": [
    {
     "name": "stdout",
     "output_type": "stream",
     "text": [
      "indicator.shape:  (5210, 5)\n",
      "norm_indicator[0]:  [0.08136308 0.08360132 0.08088346 0.08280195 0.07614407]\n"
     ]
    }
   ],
   "source": [
    "indicator = samsung_new.iloc[:,:-2] #Close tmr을 예측하기 위한 보조지표 Open ~ MACD 열까지를 설정\n",
    "norm_indicator = min_max_scaling(indicator) # 지표 데이터 정규화 처리\n",
    "print(\"indicator.shape: \", indicator.shape)\n",
    "print(\"norm_indicator[0]: \", norm_indicator[0])"
   ]
  },
  {
   "cell_type": "code",
   "execution_count": 164,
   "metadata": {
    "colab": {
     "base_uri": "https://localhost:8080/"
    },
    "id": "BSiX_eI2_pd2",
    "outputId": "fb618e3c-45f4-452c-f5e5-489f19969062"
   },
   "outputs": [
    {
     "name": "stdout",
     "output_type": "stream",
     "text": [
      "volume.shape:  (5210, 1)\n",
      "norm_volume[0]:  [0.35588826]\n"
     ]
    }
   ],
   "source": [
    "volume = samsung_new.iloc[:,-2:-1]\n",
    "\n",
    "norm_volume = min_max_scaling(volume) # VOLUME 데이터 정규화 처리 _ Volume의 크기가 다른 지표들에 비해 비약적으로 크기 때문에, 따로 정규화를 진행한다.\n",
    "\n",
    "print(\"volume.shape: \", volume.shape)\n",
    "print(\"norm_volume[0]: \", norm_volume[0])"
   ]
  },
  {
   "cell_type": "code",
   "execution_count": 165,
   "metadata": {
    "colab": {
     "base_uri": "https://localhost:8080/"
    },
    "id": "q03ccuOh3KtL",
    "outputId": "5a90db7a-2c76-4d74-9253-ca24e5b8a4bc"
   },
   "outputs": [
    {
     "name": "stdout",
     "output_type": "stream",
     "text": [
      "target.shape:  (5210, 1)\n",
      "norm_target[0]:  [0.05010893]\n"
     ]
    }
   ],
   "source": [
    "target = samsung_new.iloc[:,-1:] #Close tmr 값을 target으로 지정해준다\n",
    "\n",
    "norm_target = min_max_scaling(target) # target 데이터 정규화 처리\n",
    "\n",
    "print(\"target.shape: \", target.shape)\n",
    "print(\"norm_target[0]: \", norm_target[0])"
   ]
  },
  {
   "cell_type": "code",
   "execution_count": 166,
   "metadata": {
    "colab": {
     "base_uri": "https://localhost:8080/"
    },
    "id": "DVxBHrcw3rXS",
    "outputId": "d81c39c3-d90d-46cb-ff9b-69f39ccd0513"
   },
   "outputs": [
    {
     "name": "stdout",
     "output_type": "stream",
     "text": [
      "x.shape:  (5210, 6)\n",
      "x[0]:  [0.08136308 0.08360132 0.08088346 0.08280195 0.07614407 0.35588826]\n",
      "x[-1]:  [9.63228943e-01 9.63228943e-01 9.47241527e-01 9.58432719e-01\n",
      " 6.21892038e-02 1.68717702e-04]\n",
      "====================================================================================================\n",
      "y[0]:  [0.05010893]\n",
      "y[-1]:  [0.98156528]\n"
     ]
    }
   ],
   "source": [
    "x = np.concatenate((norm_indicator, norm_volume), axis=1) # axis=1, 세로로 합친다\n",
    "print(\"x.shape: \", x.shape)\n",
    "print(\"x[0]: \", x[0])    # x의 첫 값\n",
    "print(\"x[-1]: \", x[-1])  # x의 마지막 값\n",
    "print(\"=\"*100) # 화면상 구분용\n",
    " \n",
    "y = norm_target # 타켓은 내일 종가이다\n",
    "print(\"y[0]: \",y[0])     # y의 첫 값\n",
    "print(\"y[-1]: \",y[-1])   # y의 마지막 값"
   ]
  },
  {
   "cell_type": "code",
   "execution_count": 167,
   "metadata": {
    "colab": {
     "base_uri": "https://localhost:8080/",
     "height": 406
    },
    "id": "T3JFl1x55i2P",
    "outputId": "31730111-7bed-4518-a4bd-70f4aa5898d3"
   },
   "outputs": [
    {
     "data": {
      "text/html": [
       "<div>\n",
       "<style scoped>\n",
       "    .dataframe tbody tr th:only-of-type {\n",
       "        vertical-align: middle;\n",
       "    }\n",
       "\n",
       "    .dataframe tbody tr th {\n",
       "        vertical-align: top;\n",
       "    }\n",
       "\n",
       "    .dataframe thead th {\n",
       "        text-align: right;\n",
       "    }\n",
       "</style>\n",
       "<table border=\"1\" class=\"dataframe\">\n",
       "  <thead>\n",
       "    <tr style=\"text-align: right;\">\n",
       "      <th></th>\n",
       "      <th>Open</th>\n",
       "      <th>High</th>\n",
       "      <th>Low</th>\n",
       "      <th>Close</th>\n",
       "      <th>MACD</th>\n",
       "      <th>Volume</th>\n",
       "    </tr>\n",
       "  </thead>\n",
       "  <tbody>\n",
       "    <tr>\n",
       "      <th>0</th>\n",
       "      <td>0.081363</td>\n",
       "      <td>0.083601</td>\n",
       "      <td>0.080883</td>\n",
       "      <td>0.082802</td>\n",
       "      <td>0.076144</td>\n",
       "      <td>0.355888</td>\n",
       "    </tr>\n",
       "    <tr>\n",
       "      <th>1</th>\n",
       "      <td>0.084880</td>\n",
       "      <td>0.087438</td>\n",
       "      <td>0.083601</td>\n",
       "      <td>0.087438</td>\n",
       "      <td>0.077098</td>\n",
       "      <td>0.310757</td>\n",
       "    </tr>\n",
       "    <tr>\n",
       "      <th>2</th>\n",
       "      <td>0.086479</td>\n",
       "      <td>0.089996</td>\n",
       "      <td>0.085520</td>\n",
       "      <td>0.088078</td>\n",
       "      <td>0.077758</td>\n",
       "      <td>0.376505</td>\n",
       "    </tr>\n",
       "    <tr>\n",
       "      <th>3</th>\n",
       "      <td>0.091275</td>\n",
       "      <td>0.091275</td>\n",
       "      <td>0.086799</td>\n",
       "      <td>0.087119</td>\n",
       "      <td>0.078299</td>\n",
       "      <td>0.210932</td>\n",
       "    </tr>\n",
       "    <tr>\n",
       "      <th>4</th>\n",
       "      <td>0.085520</td>\n",
       "      <td>0.086479</td>\n",
       "      <td>0.081363</td>\n",
       "      <td>0.082003</td>\n",
       "      <td>0.078278</td>\n",
       "      <td>0.268671</td>\n",
       "    </tr>\n",
       "    <tr>\n",
       "      <th>...</th>\n",
       "      <td>...</td>\n",
       "      <td>...</td>\n",
       "      <td>...</td>\n",
       "      <td>...</td>\n",
       "      <td>...</td>\n",
       "      <td>...</td>\n",
       "    </tr>\n",
       "    <tr>\n",
       "      <th>5205</th>\n",
       "      <td>0.937649</td>\n",
       "      <td>0.939248</td>\n",
       "      <td>0.920063</td>\n",
       "      <td>0.931254</td>\n",
       "      <td>0.060287</td>\n",
       "      <td>0.000165</td>\n",
       "    </tr>\n",
       "    <tr>\n",
       "      <th>5206</th>\n",
       "      <td>0.939248</td>\n",
       "      <td>0.960031</td>\n",
       "      <td>0.936050</td>\n",
       "      <td>0.960031</td>\n",
       "      <td>0.062455</td>\n",
       "      <td>0.000166</td>\n",
       "    </tr>\n",
       "    <tr>\n",
       "      <th>5207</th>\n",
       "      <td>0.966426</td>\n",
       "      <td>0.968025</td>\n",
       "      <td>0.948840</td>\n",
       "      <td>0.956834</td>\n",
       "      <td>0.062051</td>\n",
       "      <td>0.000167</td>\n",
       "    </tr>\n",
       "    <tr>\n",
       "      <th>5208</th>\n",
       "      <td>0.966426</td>\n",
       "      <td>0.969624</td>\n",
       "      <td>0.956834</td>\n",
       "      <td>0.958433</td>\n",
       "      <td>0.062201</td>\n",
       "      <td>0.000168</td>\n",
       "    </tr>\n",
       "    <tr>\n",
       "      <th>5209</th>\n",
       "      <td>0.963229</td>\n",
       "      <td>0.963229</td>\n",
       "      <td>0.947242</td>\n",
       "      <td>0.958433</td>\n",
       "      <td>0.062189</td>\n",
       "      <td>0.000169</td>\n",
       "    </tr>\n",
       "  </tbody>\n",
       "</table>\n",
       "<p>5210 rows × 6 columns</p>\n",
       "</div>"
      ],
      "text/plain": [
       "          Open      High       Low     Close      MACD    Volume\n",
       "0     0.081363  0.083601  0.080883  0.082802  0.076144  0.355888\n",
       "1     0.084880  0.087438  0.083601  0.087438  0.077098  0.310757\n",
       "2     0.086479  0.089996  0.085520  0.088078  0.077758  0.376505\n",
       "3     0.091275  0.091275  0.086799  0.087119  0.078299  0.210932\n",
       "4     0.085520  0.086479  0.081363  0.082003  0.078278  0.268671\n",
       "...        ...       ...       ...       ...       ...       ...\n",
       "5205  0.937649  0.939248  0.920063  0.931254  0.060287  0.000165\n",
       "5206  0.939248  0.960031  0.936050  0.960031  0.062455  0.000166\n",
       "5207  0.966426  0.968025  0.948840  0.956834  0.062051  0.000167\n",
       "5208  0.966426  0.969624  0.956834  0.958433  0.062201  0.000168\n",
       "5209  0.963229  0.963229  0.947242  0.958433  0.062189  0.000169\n",
       "\n",
       "[5210 rows x 6 columns]"
      ]
     },
     "execution_count": 167,
     "metadata": {},
     "output_type": "execute_result"
    }
   ],
   "source": [
    "#정규화 한 값들을 바탕으로 새로운 데이터프레임 samsung_new2를 생성한다\n",
    "samsung_new2 = pd.DataFrame(x, columns=list(['Open','High','Low','Close','MACD','Volume']))\n",
    "samsung_new2"
   ]
  },
  {
   "cell_type": "code",
   "execution_count": 168,
   "metadata": {
    "colab": {
     "base_uri": "https://localhost:8080/",
     "height": 406
    },
    "id": "pg2OgX82_pd2",
    "outputId": "5962fb90-faf4-473c-e21e-ce277116901a"
   },
   "outputs": [
    {
     "data": {
      "text/html": [
       "<div>\n",
       "<style scoped>\n",
       "    .dataframe tbody tr th:only-of-type {\n",
       "        vertical-align: middle;\n",
       "    }\n",
       "\n",
       "    .dataframe tbody tr th {\n",
       "        vertical-align: top;\n",
       "    }\n",
       "\n",
       "    .dataframe thead th {\n",
       "        text-align: right;\n",
       "    }\n",
       "</style>\n",
       "<table border=\"1\" class=\"dataframe\">\n",
       "  <thead>\n",
       "    <tr style=\"text-align: right;\">\n",
       "      <th></th>\n",
       "      <th>Open</th>\n",
       "      <th>High</th>\n",
       "      <th>Low</th>\n",
       "      <th>Close</th>\n",
       "      <th>MACD</th>\n",
       "      <th>Volume</th>\n",
       "      <th>target</th>\n",
       "    </tr>\n",
       "  </thead>\n",
       "  <tbody>\n",
       "    <tr>\n",
       "      <th>0</th>\n",
       "      <td>0.081363</td>\n",
       "      <td>0.083601</td>\n",
       "      <td>0.080883</td>\n",
       "      <td>0.082802</td>\n",
       "      <td>0.076144</td>\n",
       "      <td>0.355888</td>\n",
       "      <td>0.050109</td>\n",
       "    </tr>\n",
       "    <tr>\n",
       "      <th>1</th>\n",
       "      <td>0.084880</td>\n",
       "      <td>0.087438</td>\n",
       "      <td>0.083601</td>\n",
       "      <td>0.087438</td>\n",
       "      <td>0.077098</td>\n",
       "      <td>0.310757</td>\n",
       "      <td>0.050779</td>\n",
       "    </tr>\n",
       "    <tr>\n",
       "      <th>2</th>\n",
       "      <td>0.086479</td>\n",
       "      <td>0.089996</td>\n",
       "      <td>0.085520</td>\n",
       "      <td>0.088078</td>\n",
       "      <td>0.077758</td>\n",
       "      <td>0.376505</td>\n",
       "      <td>0.049774</td>\n",
       "    </tr>\n",
       "    <tr>\n",
       "      <th>3</th>\n",
       "      <td>0.091275</td>\n",
       "      <td>0.091275</td>\n",
       "      <td>0.086799</td>\n",
       "      <td>0.087119</td>\n",
       "      <td>0.078299</td>\n",
       "      <td>0.210932</td>\n",
       "      <td>0.044411</td>\n",
       "    </tr>\n",
       "    <tr>\n",
       "      <th>4</th>\n",
       "      <td>0.085520</td>\n",
       "      <td>0.086479</td>\n",
       "      <td>0.081363</td>\n",
       "      <td>0.082003</td>\n",
       "      <td>0.078278</td>\n",
       "      <td>0.268671</td>\n",
       "      <td>0.041394</td>\n",
       "    </tr>\n",
       "    <tr>\n",
       "      <th>...</th>\n",
       "      <td>...</td>\n",
       "      <td>...</td>\n",
       "      <td>...</td>\n",
       "      <td>...</td>\n",
       "      <td>...</td>\n",
       "      <td>...</td>\n",
       "      <td>...</td>\n",
       "    </tr>\n",
       "    <tr>\n",
       "      <th>5205</th>\n",
       "      <td>0.937649</td>\n",
       "      <td>0.939248</td>\n",
       "      <td>0.920063</td>\n",
       "      <td>0.931254</td>\n",
       "      <td>0.060287</td>\n",
       "      <td>0.000165</td>\n",
       "      <td>0.964806</td>\n",
       "    </tr>\n",
       "    <tr>\n",
       "      <th>5206</th>\n",
       "      <td>0.939248</td>\n",
       "      <td>0.960031</td>\n",
       "      <td>0.936050</td>\n",
       "      <td>0.960031</td>\n",
       "      <td>0.062455</td>\n",
       "      <td>0.000166</td>\n",
       "      <td>0.961455</td>\n",
       "    </tr>\n",
       "    <tr>\n",
       "      <th>5207</th>\n",
       "      <td>0.966426</td>\n",
       "      <td>0.968025</td>\n",
       "      <td>0.948840</td>\n",
       "      <td>0.956834</td>\n",
       "      <td>0.062051</td>\n",
       "      <td>0.000167</td>\n",
       "      <td>0.963131</td>\n",
       "    </tr>\n",
       "    <tr>\n",
       "      <th>5208</th>\n",
       "      <td>0.966426</td>\n",
       "      <td>0.969624</td>\n",
       "      <td>0.956834</td>\n",
       "      <td>0.958433</td>\n",
       "      <td>0.062201</td>\n",
       "      <td>0.000168</td>\n",
       "      <td>0.963131</td>\n",
       "    </tr>\n",
       "    <tr>\n",
       "      <th>5209</th>\n",
       "      <td>0.963229</td>\n",
       "      <td>0.963229</td>\n",
       "      <td>0.947242</td>\n",
       "      <td>0.958433</td>\n",
       "      <td>0.062189</td>\n",
       "      <td>0.000169</td>\n",
       "      <td>0.981565</td>\n",
       "    </tr>\n",
       "  </tbody>\n",
       "</table>\n",
       "<p>5210 rows × 7 columns</p>\n",
       "</div>"
      ],
      "text/plain": [
       "          Open      High       Low     Close      MACD    Volume    target\n",
       "0     0.081363  0.083601  0.080883  0.082802  0.076144  0.355888  0.050109\n",
       "1     0.084880  0.087438  0.083601  0.087438  0.077098  0.310757  0.050779\n",
       "2     0.086479  0.089996  0.085520  0.088078  0.077758  0.376505  0.049774\n",
       "3     0.091275  0.091275  0.086799  0.087119  0.078299  0.210932  0.044411\n",
       "4     0.085520  0.086479  0.081363  0.082003  0.078278  0.268671  0.041394\n",
       "...        ...       ...       ...       ...       ...       ...       ...\n",
       "5205  0.937649  0.939248  0.920063  0.931254  0.060287  0.000165  0.964806\n",
       "5206  0.939248  0.960031  0.936050  0.960031  0.062455  0.000166  0.961455\n",
       "5207  0.966426  0.968025  0.948840  0.956834  0.062051  0.000167  0.963131\n",
       "5208  0.966426  0.969624  0.956834  0.958433  0.062201  0.000168  0.963131\n",
       "5209  0.963229  0.963229  0.947242  0.958433  0.062189  0.000169  0.981565\n",
       "\n",
       "[5210 rows x 7 columns]"
      ]
     },
     "execution_count": 168,
     "metadata": {},
     "output_type": "execute_result"
    }
   ],
   "source": [
    "#위에서 만들어준 데이터프레임에 target 열을 추가한다\n",
    "samsung_new2['target']=y\n",
    "samsung_new2"
   ]
  },
  {
   "cell_type": "code",
   "execution_count": 169,
   "metadata": {
    "id": "qxRqnVIlt06c"
   },
   "outputs": [],
   "source": [
    "TEST_SIZE = 1500 #총 5210개의 데이터 중 마지막 1500개를 테스트데이터로 사용한다\n",
    "train = samsung_new2[:-TEST_SIZE]\n",
    "test = samsung_new2[-TEST_SIZE:]\n",
    "\n",
    "def make_dataset(data, label, window_size): #Window 갯수에 따라 데이터셋을 만드는 함수\n",
    "    feature_list = []\n",
    "    label_list = []\n",
    "    for i in range(len(data) - window_size):\n",
    "        feature_list.append(np.array(data.iloc[i:i+window_size]))\n",
    "        label_list.append(np.array(label.iloc[i+window_size]))\n",
    "    return np.array(feature_list), np.array(label_list)"
   ]
  },
  {
   "cell_type": "code",
   "execution_count": 170,
   "metadata": {
    "colab": {
     "base_uri": "https://localhost:8080/"
    },
    "id": "A_ug-5a8O6Zz",
    "outputId": "1ca8d248-e906-416b-f783-0c0f76742048"
   },
   "outputs": [
    {
     "data": {
      "text/plain": [
       "((3680, 30, 5), (3680, 1))"
      ]
     },
     "execution_count": 170,
     "metadata": {},
     "output_type": "execute_result"
    }
   ],
   "source": [
    "indicator_cols = ['Open', 'High', 'Low','Close','Volume'] #indicator 부분 지정 #MACD 제외\n",
    "label_cols = ['target'] #target(Closing Price of tomorrow) 지정\n",
    "\n",
    "train_indicator = train[indicator_cols]\n",
    "train_label = train[label_cols]\n",
    "\n",
    "train_indicator, train_label = make_dataset(train_indicator,train_label,30) #설정한 window값(=30)으로 훈련 데이터셋을 만들어준다\n",
    "train_indicator.shape, train_label.shape"
   ]
  },
  {
   "cell_type": "code",
   "execution_count": 171,
   "metadata": {
    "colab": {
     "base_uri": "https://localhost:8080/"
    },
    "id": "_coyMaMFP6vG",
    "outputId": "fb93e7bf-05a1-4582-f400-3f8d31b2efa3"
   },
   "outputs": [
    {
     "data": {
      "text/plain": [
       "((1470, 30, 5), (1470, 1))"
      ]
     },
     "execution_count": 171,
     "metadata": {},
     "output_type": "execute_result"
    }
   ],
   "source": [
    "test_indicator = test[indicator_cols]\n",
    "test_label = test[label_cols]\n",
    "\n",
    "test_indicator, test_label = make_dataset(test_indicator,test_label,30) #설정한 window값(=30)으로 테스트 데이터셋을 만들어준다\n",
    "test_indicator.shape, test_label.shape"
   ]
  },
  {
   "cell_type": "code",
   "execution_count": 172,
   "metadata": {
    "colab": {
     "base_uri": "https://localhost:8080/"
    },
    "id": "44U-Htzot06g",
    "outputId": "0841eb25-a8bb-4e2e-9f0e-72c546ce65b9"
   },
   "outputs": [
    {
     "name": "stdout",
     "output_type": "stream",
     "text": [
      "(3680, 30, 5)\n",
      "(1470, 30, 5)\n",
      "(3680, 1)\n",
      "(1470, 1)\n"
     ]
    }
   ],
   "source": [
    "#데이터셋이 올바르게 설정되었는지 확인해본다\n",
    "x1_train = train_indicator\n",
    "x1_test = test_indicator\n",
    "y1_train = train_label\n",
    "y1_test = test_label\n",
    "\n",
    "print(x1_train.shape)\n",
    "print(x1_test.shape)\n",
    "print(y1_train.shape)\n",
    "print(y1_test.shape)"
   ]
  },
  {
   "cell_type": "code",
   "execution_count": 173,
   "metadata": {
    "colab": {
     "base_uri": "https://localhost:8080/"
    },
    "id": "6fr48wnAt06s",
    "outputId": "dcbe0c8c-96cb-4918-a780-5c889673b10e"
   },
   "outputs": [
    {
     "name": "stdout",
     "output_type": "stream",
     "text": [
      "Model: \"functional_21\"\n",
      "_________________________________________________________________\n",
      "Layer (type)                 Output Shape              Param #   \n",
      "=================================================================\n",
      "input_13 (InputLayer)        [(None, 30, 5)]           0         \n",
      "_________________________________________________________________\n",
      "lstm_12 (LSTM)               (None, 256)               268288    \n",
      "_________________________________________________________________\n",
      "dense_36 (Dense)             (None, 64)                16448     \n",
      "_________________________________________________________________\n",
      "dense_37 (Dense)             (None, 32)                2080      \n",
      "_________________________________________________________________\n",
      "dense_38 (Dense)             (None, 1)                 33        \n",
      "=================================================================\n",
      "Total params: 286,849\n",
      "Trainable params: 286,849\n",
      "Non-trainable params: 0\n",
      "_________________________________________________________________\n"
     ]
    }
   ],
   "source": [
    "# LSTM Model\n",
    "from keras.models import Model\n",
    "from keras.layers import Dense, LSTM, Input\n",
    "\n",
    "# model 1\n",
    "input1 = Input(shape=(x1_train.shape[1],x1_train.shape[2]))\n",
    "dense1 = LSTM(256, activation ='relu')(input1)\n",
    "dense1 = Dense(64)(dense1)\n",
    "dense1 = Dense(32)(dense1)\n",
    "output1 = Dense(1)(dense1)\n",
    "\n",
    "model = Model(inputs = input1, outputs = output1)\n",
    "model.summary()"
   ]
  },
  {
   "cell_type": "code",
   "execution_count": 174,
   "metadata": {
    "colab": {
     "base_uri": "https://localhost:8080/"
    },
    "id": "Z8Nz14x6t06x",
    "outputId": "0ebc040a-1df8-4b47-eef1-b6a095d13492"
   },
   "outputs": [
    {
     "name": "stdout",
     "output_type": "stream",
     "text": [
      "Epoch 1/70\n",
      "37/37 [==============================] - ETA: 0s - loss: 0.0069 - mse: 0.0069WARNING:tensorflow:Early stopping conditioned on metric `val_loss` which is not available. Available metrics are: loss,mse\n",
      "37/37 [==============================] - 3s 75ms/step - loss: 0.0069 - mse: 0.0069\n",
      "Epoch 2/70\n",
      "37/37 [==============================] - ETA: 0s - loss: 1.4987e-04 - mse: 1.4987e-04WARNING:tensorflow:Early stopping conditioned on metric `val_loss` which is not available. Available metrics are: loss,mse\n",
      "37/37 [==============================] - 3s 76ms/step - loss: 1.4987e-04 - mse: 1.4987e-04\n",
      "Epoch 3/70\n",
      "37/37 [==============================] - ETA: 0s - loss: 1.0217e-04 - mse: 1.0217e-04WARNING:tensorflow:Early stopping conditioned on metric `val_loss` which is not available. Available metrics are: loss,mse\n",
      "37/37 [==============================] - 3s 75ms/step - loss: 1.0217e-04 - mse: 1.0217e-04\n",
      "Epoch 4/70\n",
      "37/37 [==============================] - ETA: 0s - loss: 9.0893e-05 - mse: 9.0893e-05WARNING:tensorflow:Early stopping conditioned on metric `val_loss` which is not available. Available metrics are: loss,mse\n",
      "37/37 [==============================] - 3s 76ms/step - loss: 9.0893e-05 - mse: 9.0893e-05\n",
      "Epoch 5/70\n",
      "37/37 [==============================] - ETA: 0s - loss: 8.5823e-05 - mse: 8.5823e-05WARNING:tensorflow:Early stopping conditioned on metric `val_loss` which is not available. Available metrics are: loss,mse\n",
      "37/37 [==============================] - 3s 79ms/step - loss: 8.5823e-05 - mse: 8.5823e-05\n",
      "Epoch 6/70\n",
      "37/37 [==============================] - ETA: 0s - loss: 8.1804e-05 - mse: 8.1804e-05WARNING:tensorflow:Early stopping conditioned on metric `val_loss` which is not available. Available metrics are: loss,mse\n",
      "37/37 [==============================] - 3s 84ms/step - loss: 8.1804e-05 - mse: 8.1804e-05\n",
      "Epoch 7/70\n",
      "37/37 [==============================] - ETA: 0s - loss: 7.9533e-05 - mse: 7.9533e-05WARNING:tensorflow:Early stopping conditioned on metric `val_loss` which is not available. Available metrics are: loss,mse\n",
      "37/37 [==============================] - 4s 107ms/step - loss: 7.9533e-05 - mse: 7.9533e-05\n",
      "Epoch 8/70\n",
      "37/37 [==============================] - ETA: 0s - loss: 7.7379e-05 - mse: 7.7379e-05WARNING:tensorflow:Early stopping conditioned on metric `val_loss` which is not available. Available metrics are: loss,mse\n",
      "37/37 [==============================] - 4s 103ms/step - loss: 7.7379e-05 - mse: 7.7379e-05\n",
      "Epoch 9/70\n",
      "37/37 [==============================] - ETA: 0s - loss: 7.7592e-05 - mse: 7.7592e-05WARNING:tensorflow:Early stopping conditioned on metric `val_loss` which is not available. Available metrics are: loss,mse\n",
      "37/37 [==============================] - 3s 85ms/step - loss: 7.7592e-05 - mse: 7.7592e-05\n",
      "Epoch 10/70\n",
      "37/37 [==============================] - ETA: 0s - loss: 7.7665e-05 - mse: 7.7665e-05WARNING:tensorflow:Early stopping conditioned on metric `val_loss` which is not available. Available metrics are: loss,mse\n",
      "37/37 [==============================] - 3s 75ms/step - loss: 7.7665e-05 - mse: 7.7665e-05\n",
      "Epoch 11/70\n",
      "37/37 [==============================] - ETA: 0s - loss: 7.7647e-05 - mse: 7.7647e-05WARNING:tensorflow:Early stopping conditioned on metric `val_loss` which is not available. Available metrics are: loss,mse\n",
      "37/37 [==============================] - 3s 78ms/step - loss: 7.7647e-05 - mse: 7.7647e-05\n",
      "Epoch 12/70\n",
      "37/37 [==============================] - ETA: 0s - loss: 7.5730e-05 - mse: 7.5730e-05WARNING:tensorflow:Early stopping conditioned on metric `val_loss` which is not available. Available metrics are: loss,mse\n",
      "37/37 [==============================] - 3s 79ms/step - loss: 7.5730e-05 - mse: 7.5730e-05\n",
      "Epoch 13/70\n",
      "37/37 [==============================] - ETA: 0s - loss: 7.6410e-05 - mse: 7.6410e-05WARNING:tensorflow:Early stopping conditioned on metric `val_loss` which is not available. Available metrics are: loss,mse\n",
      "37/37 [==============================] - 3s 75ms/step - loss: 7.6410e-05 - mse: 7.6410e-05\n",
      "Epoch 14/70\n",
      "37/37 [==============================] - ETA: 0s - loss: 7.5504e-05 - mse: 7.5504e-05WARNING:tensorflow:Early stopping conditioned on metric `val_loss` which is not available. Available metrics are: loss,mse\n",
      "37/37 [==============================] - 3s 79ms/step - loss: 7.5504e-05 - mse: 7.5504e-05\n",
      "Epoch 15/70\n",
      "37/37 [==============================] - ETA: 0s - loss: 7.6125e-05 - mse: 7.6125e-05WARNING:tensorflow:Early stopping conditioned on metric `val_loss` which is not available. Available metrics are: loss,mse\n",
      "37/37 [==============================] - 3s 80ms/step - loss: 7.6125e-05 - mse: 7.6125e-05\n",
      "Epoch 16/70\n",
      "37/37 [==============================] - ETA: 0s - loss: 7.5155e-05 - mse: 7.5155e-05WARNING:tensorflow:Early stopping conditioned on metric `val_loss` which is not available. Available metrics are: loss,mse\n",
      "37/37 [==============================] - 3s 78ms/step - loss: 7.5155e-05 - mse: 7.5155e-05\n",
      "Epoch 17/70\n",
      "37/37 [==============================] - ETA: 0s - loss: 7.8613e-05 - mse: 7.8613e-05WARNING:tensorflow:Early stopping conditioned on metric `val_loss` which is not available. Available metrics are: loss,mse\n",
      "37/37 [==============================] - 3s 76ms/step - loss: 7.8613e-05 - mse: 7.8613e-05\n",
      "Epoch 18/70\n",
      "37/37 [==============================] - ETA: 0s - loss: 7.4083e-05 - mse: 7.4083e-05WARNING:tensorflow:Early stopping conditioned on metric `val_loss` which is not available. Available metrics are: loss,mse\n",
      "37/37 [==============================] - 3s 74ms/step - loss: 7.4083e-05 - mse: 7.4083e-05\n",
      "Epoch 19/70\n",
      "37/37 [==============================] - ETA: 0s - loss: 7.5544e-05 - mse: 7.5544e-05WARNING:tensorflow:Early stopping conditioned on metric `val_loss` which is not available. Available metrics are: loss,mse\n",
      "37/37 [==============================] - 3s 76ms/step - loss: 7.5544e-05 - mse: 7.5544e-05\n",
      "Epoch 20/70\n",
      "37/37 [==============================] - ETA: 0s - loss: 7.3868e-05 - mse: 7.3868e-05WARNING:tensorflow:Early stopping conditioned on metric `val_loss` which is not available. Available metrics are: loss,mse\n",
      "37/37 [==============================] - 3s 85ms/step - loss: 7.3868e-05 - mse: 7.3868e-05\n",
      "Epoch 21/70\n",
      "37/37 [==============================] - ETA: 0s - loss: 7.4694e-05 - mse: 7.4694e-05WARNING:tensorflow:Early stopping conditioned on metric `val_loss` which is not available. Available metrics are: loss,mse\n",
      "37/37 [==============================] - 3s 78ms/step - loss: 7.4694e-05 - mse: 7.4694e-05\n",
      "Epoch 22/70\n",
      "37/37 [==============================] - ETA: 0s - loss: 8.2585e-05 - mse: 8.2585e-05WARNING:tensorflow:Early stopping conditioned on metric `val_loss` which is not available. Available metrics are: loss,mse\n",
      "37/37 [==============================] - 3s 89ms/step - loss: 8.2585e-05 - mse: 8.2585e-05\n",
      "Epoch 23/70\n",
      "37/37 [==============================] - ETA: 0s - loss: 8.1033e-05 - mse: 8.1033e-05WARNING:tensorflow:Early stopping conditioned on metric `val_loss` which is not available. Available metrics are: loss,mse\n",
      "37/37 [==============================] - 3s 82ms/step - loss: 8.1033e-05 - mse: 8.1033e-05\n",
      "Epoch 24/70\n",
      "37/37 [==============================] - ETA: 0s - loss: 7.2026e-05 - mse: 7.2026e-05WARNING:tensorflow:Early stopping conditioned on metric `val_loss` which is not available. Available metrics are: loss,mse\n",
      "37/37 [==============================] - 3s 78ms/step - loss: 7.2026e-05 - mse: 7.2026e-05\n",
      "Epoch 25/70\n",
      "37/37 [==============================] - ETA: 0s - loss: 7.4359e-05 - mse: 7.4359e-05WARNING:tensorflow:Early stopping conditioned on metric `val_loss` which is not available. Available metrics are: loss,mse\n",
      "37/37 [==============================] - 3s 81ms/step - loss: 7.4359e-05 - mse: 7.4359e-05\n",
      "Epoch 26/70\n",
      "37/37 [==============================] - ETA: 0s - loss: 8.8466e-05 - mse: 8.8466e-05WARNING:tensorflow:Early stopping conditioned on metric `val_loss` which is not available. Available metrics are: loss,mse\n",
      "37/37 [==============================] - 3s 77ms/step - loss: 8.8466e-05 - mse: 8.8466e-05\n",
      "Epoch 27/70\n",
      "37/37 [==============================] - ETA: 0s - loss: 7.7386e-05 - mse: 7.7386e-05WARNING:tensorflow:Early stopping conditioned on metric `val_loss` which is not available. Available metrics are: loss,mse\n",
      "37/37 [==============================] - 3s 86ms/step - loss: 7.7386e-05 - mse: 7.7386e-05\n",
      "Epoch 28/70\n",
      "37/37 [==============================] - ETA: 0s - loss: 7.1396e-05 - mse: 7.1396e-05WARNING:tensorflow:Early stopping conditioned on metric `val_loss` which is not available. Available metrics are: loss,mse\n",
      "37/37 [==============================] - 3s 85ms/step - loss: 7.1396e-05 - mse: 7.1396e-05\n",
      "Epoch 29/70\n",
      "37/37 [==============================] - ETA: 0s - loss: 6.9919e-05 - mse: 6.9919e-05WARNING:tensorflow:Early stopping conditioned on metric `val_loss` which is not available. Available metrics are: loss,mse\n",
      "37/37 [==============================] - 3s 83ms/step - loss: 6.9919e-05 - mse: 6.9919e-05\n",
      "Epoch 30/70\n",
      "37/37 [==============================] - ETA: 0s - loss: 7.8281e-05 - mse: 7.8281e-05- ETA: 1s - loss: 7.6133e-05 - msWARNING:tensorflow:Early stopping conditioned on metric `val_loss` which is not available. Available metrics are: loss,mse\n",
      "37/37 [==============================] - 3s 82ms/step - loss: 7.8281e-05 - mse: 7.8281e-05\n",
      "Epoch 31/70\n",
      "37/37 [==============================] - ETA: 0s - loss: 7.5508e-05 - mse: 7.5508e-05WARNING:tensorflow:Early stopping conditioned on metric `val_loss` which is not available. Available metrics are: loss,mse\n",
      "37/37 [==============================] - 3s 85ms/step - loss: 7.5508e-05 - mse: 7.5508e-05\n",
      "Epoch 32/70\n",
      "37/37 [==============================] - ETA: 0s - loss: 7.1686e-05 - mse: 7.1686e-05WARNING:tensorflow:Early stopping conditioned on metric `val_loss` which is not available. Available metrics are: loss,mse\n",
      "37/37 [==============================] - 3s 84ms/step - loss: 7.1686e-05 - mse: 7.1686e-05\n",
      "Epoch 33/70\n",
      "37/37 [==============================] - ETA: 0s - loss: 7.2120e-05 - mse: 7.2120e-05WARNING:tensorflow:Early stopping conditioned on metric `val_loss` which is not available. Available metrics are: loss,mse\n",
      "37/37 [==============================] - 3s 83ms/step - loss: 7.2120e-05 - mse: 7.2120e-05\n",
      "Epoch 34/70\n",
      "37/37 [==============================] - ETA: 0s - loss: 7.0927e-05 - mse: 7.0927e-05WARNING:tensorflow:Early stopping conditioned on metric `val_loss` which is not available. Available metrics are: loss,mse\n",
      "37/37 [==============================] - 3s 78ms/step - loss: 7.0927e-05 - mse: 7.0927e-05\n",
      "Epoch 35/70\n",
      "37/37 [==============================] - ETA: 0s - loss: 6.9778e-05 - mse: 6.9778e-05WARNING:tensorflow:Early stopping conditioned on metric `val_loss` which is not available. Available metrics are: loss,mse\n",
      "37/37 [==============================] - 3s 70ms/step - loss: 6.9778e-05 - mse: 6.9778e-05\n",
      "Epoch 36/70\n",
      "37/37 [==============================] - ETA: 0s - loss: 6.8843e-05 - mse: 6.8843e-05WARNING:tensorflow:Early stopping conditioned on metric `val_loss` which is not available. Available metrics are: loss,mse\n",
      "37/37 [==============================] - 3s 75ms/step - loss: 6.8843e-05 - mse: 6.8843e-05\n",
      "Epoch 37/70\n",
      "37/37 [==============================] - ETA: 0s - loss: 6.9835e-05 - mse: 6.9835e-05WARNING:tensorflow:Early stopping conditioned on metric `val_loss` which is not available. Available metrics are: loss,mse\n",
      "37/37 [==============================] - 3s 75ms/step - loss: 6.9835e-05 - mse: 6.9835e-05\n",
      "Epoch 38/70\n",
      "37/37 [==============================] - ETA: 0s - loss: 6.8598e-05 - mse: 6.8598e-05WARNING:tensorflow:Early stopping conditioned on metric `val_loss` which is not available. Available metrics are: loss,mse\n",
      "37/37 [==============================] - 3s 89ms/step - loss: 6.8598e-05 - mse: 6.8598e-05\n",
      "Epoch 39/70\n",
      "37/37 [==============================] - ETA: 0s - loss: 7.5009e-05 - mse: 7.5009e-05WARNING:tensorflow:Early stopping conditioned on metric `val_loss` which is not available. Available metrics are: loss,mse\n",
      "37/37 [==============================] - 3s 76ms/step - loss: 7.5009e-05 - mse: 7.5009e-05\n",
      "Epoch 40/70\n",
      "37/37 [==============================] - ETA: 0s - loss: 6.9004e-05 - mse: 6.9004e-05WARNING:tensorflow:Early stopping conditioned on metric `val_loss` which is not available. Available metrics are: loss,mse\n",
      "37/37 [==============================] - 3s 85ms/step - loss: 6.9004e-05 - mse: 6.9004e-05\n",
      "Epoch 41/70\n",
      "37/37 [==============================] - ETA: 0s - loss: 7.0110e-05 - mse: 7.0110e-05WARNING:tensorflow:Early stopping conditioned on metric `val_loss` which is not available. Available metrics are: loss,mse\n",
      "37/37 [==============================] - 3s 78ms/step - loss: 7.0110e-05 - mse: 7.0110e-05\n",
      "Epoch 42/70\n",
      "37/37 [==============================] - ETA: 0s - loss: 7.0138e-05 - mse: 7.0138e-05WARNING:tensorflow:Early stopping conditioned on metric `val_loss` which is not available. Available metrics are: loss,mse\n",
      "37/37 [==============================] - 2s 66ms/step - loss: 7.0138e-05 - mse: 7.0138e-05\n",
      "Epoch 43/70\n",
      "37/37 [==============================] - ETA: 0s - loss: 6.7921e-05 - mse: 6.7921e-05WARNING:tensorflow:Early stopping conditioned on metric `val_loss` which is not available. Available metrics are: loss,mse\n",
      "37/37 [==============================] - 3s 70ms/step - loss: 6.7921e-05 - mse: 6.7921e-05\n",
      "Epoch 44/70\n",
      "37/37 [==============================] - ETA: 0s - loss: 6.6224e-05 - mse: 6.6224e-05WARNING:tensorflow:Early stopping conditioned on metric `val_loss` which is not available. Available metrics are: loss,mse\n",
      "37/37 [==============================] - 3s 69ms/step - loss: 6.6224e-05 - mse: 6.6224e-05\n",
      "Epoch 45/70\n",
      "37/37 [==============================] - ETA: 0s - loss: 6.7773e-05 - mse: 6.7773e-05WARNING:tensorflow:Early stopping conditioned on metric `val_loss` which is not available. Available metrics are: loss,mse\n",
      "37/37 [==============================] - 3s 69ms/step - loss: 6.7773e-05 - mse: 6.7773e-05\n",
      "Epoch 46/70\n",
      "37/37 [==============================] - ETA: 0s - loss: 7.3580e-05 - mse: 7.3580e-05WARNING:tensorflow:Early stopping conditioned on metric `val_loss` which is not available. Available metrics are: loss,mse\n",
      "37/37 [==============================] - 2s 67ms/step - loss: 7.3580e-05 - mse: 7.3580e-05\n",
      "Epoch 47/70\n",
      "37/37 [==============================] - ETA: 0s - loss: 6.5810e-05 - mse: 6.5810e-05WARNING:tensorflow:Early stopping conditioned on metric `val_loss` which is not available. Available metrics are: loss,mse\n",
      "37/37 [==============================] - 3s 71ms/step - loss: 6.5810e-05 - mse: 6.5810e-05\n",
      "Epoch 48/70\n",
      "37/37 [==============================] - ETA: 0s - loss: 6.5367e-05 - mse: 6.5367e-05WARNING:tensorflow:Early stopping conditioned on metric `val_loss` which is not available. Available metrics are: loss,mse\n",
      "37/37 [==============================] - 2s 66ms/step - loss: 6.5367e-05 - mse: 6.5367e-05\n",
      "Epoch 49/70\n",
      "37/37 [==============================] - ETA: 0s - loss: 6.7783e-05 - mse: 6.7783e-05WARNING:tensorflow:Early stopping conditioned on metric `val_loss` which is not available. Available metrics are: loss,mse\n",
      "37/37 [==============================] - 2s 65ms/step - loss: 6.7783e-05 - mse: 6.7783e-05\n",
      "Epoch 50/70\n",
      "37/37 [==============================] - ETA: 0s - loss: 6.5822e-05 - mse: 6.5822e-05WARNING:tensorflow:Early stopping conditioned on metric `val_loss` which is not available. Available metrics are: loss,mse\n",
      "37/37 [==============================] - 2s 65ms/step - loss: 6.5822e-05 - mse: 6.5822e-05\n",
      "Epoch 51/70\n",
      "37/37 [==============================] - ETA: 0s - loss: 6.7266e-05 - mse: 6.7266e-05WARNING:tensorflow:Early stopping conditioned on metric `val_loss` which is not available. Available metrics are: loss,mse\n",
      "37/37 [==============================] - 2s 67ms/step - loss: 6.7266e-05 - mse: 6.7266e-05\n",
      "Epoch 52/70\n",
      "37/37 [==============================] - ETA: 0s - loss: 6.6024e-05 - mse: 6.6024e-05WARNING:tensorflow:Early stopping conditioned on metric `val_loss` which is not available. Available metrics are: loss,mse\n",
      "37/37 [==============================] - 3s 69ms/step - loss: 6.6024e-05 - mse: 6.6024e-05\n",
      "Epoch 53/70\n",
      "37/37 [==============================] - ETA: 0s - loss: 6.6152e-05 - mse: 6.6152e-05WARNING:tensorflow:Early stopping conditioned on metric `val_loss` which is not available. Available metrics are: loss,mse\n",
      "37/37 [==============================] - 3s 69ms/step - loss: 6.6152e-05 - mse: 6.6152e-05\n",
      "Epoch 54/70\n",
      "37/37 [==============================] - ETA: 0s - loss: 7.2511e-05 - mse: 7.2511e-05WARNING:tensorflow:Early stopping conditioned on metric `val_loss` which is not available. Available metrics are: loss,mse\n",
      "37/37 [==============================] - 2s 67ms/step - loss: 7.2511e-05 - mse: 7.2511e-05\n",
      "Epoch 55/70\n",
      "37/37 [==============================] - ETA: 0s - loss: 6.8525e-05 - mse: 6.8525e-05WARNING:tensorflow:Early stopping conditioned on metric `val_loss` which is not available. Available metrics are: loss,mse\n",
      "37/37 [==============================] - 2s 65ms/step - loss: 6.8525e-05 - mse: 6.8525e-05\n",
      "Epoch 56/70\n",
      "37/37 [==============================] - ETA: 0s - loss: 7.5035e-05 - mse: 7.5035e-05WARNING:tensorflow:Early stopping conditioned on metric `val_loss` which is not available. Available metrics are: loss,mse\n",
      "37/37 [==============================] - 2s 65ms/step - loss: 7.5035e-05 - mse: 7.5035e-05\n",
      "Epoch 57/70\n",
      "37/37 [==============================] - ETA: 0s - loss: 6.3942e-05 - mse: 6.3942e-05WARNING:tensorflow:Early stopping conditioned on metric `val_loss` which is not available. Available metrics are: loss,mse\n",
      "37/37 [==============================] - 2s 65ms/step - loss: 6.3942e-05 - mse: 6.3942e-05\n",
      "Epoch 58/70\n",
      "37/37 [==============================] - ETA: 0s - loss: 6.3875e-05 - mse: 6.3875e-05WARNING:tensorflow:Early stopping conditioned on metric `val_loss` which is not available. Available metrics are: loss,mse\n",
      "37/37 [==============================] - 2s 64ms/step - loss: 6.3875e-05 - mse: 6.3875e-05\n",
      "Epoch 59/70\n",
      "37/37 [==============================] - ETA: 0s - loss: 7.2312e-05 - mse: 7.2312e-05WARNING:tensorflow:Early stopping conditioned on metric `val_loss` which is not available. Available metrics are: loss,mse\n",
      "37/37 [==============================] - 2s 66ms/step - loss: 7.2312e-05 - mse: 7.2312e-05\n",
      "Epoch 60/70\n",
      "37/37 [==============================] - ETA: 0s - loss: 6.5166e-05 - mse: 6.5166e-05WARNING:tensorflow:Early stopping conditioned on metric `val_loss` which is not available. Available metrics are: loss,mse\n",
      "37/37 [==============================] - 2s 64ms/step - loss: 6.5166e-05 - mse: 6.5166e-05\n",
      "Epoch 61/70\n",
      "37/37 [==============================] - ETA: 0s - loss: 6.9531e-05 - mse: 6.9531e-05WARNING:tensorflow:Early stopping conditioned on metric `val_loss` which is not available. Available metrics are: loss,mse\n",
      "37/37 [==============================] - 2s 65ms/step - loss: 6.9531e-05 - mse: 6.9531e-05\n",
      "Epoch 62/70\n",
      "37/37 [==============================] - ETA: 0s - loss: 6.4511e-05 - mse: 6.4511e-05WARNING:tensorflow:Early stopping conditioned on metric `val_loss` which is not available. Available metrics are: loss,mse\n",
      "37/37 [==============================] - 2s 65ms/step - loss: 6.4511e-05 - mse: 6.4511e-05\n",
      "Epoch 63/70\n",
      "37/37 [==============================] - ETA: 0s - loss: 6.3106e-05 - mse: 6.3106e-05WARNING:tensorflow:Early stopping conditioned on metric `val_loss` which is not available. Available metrics are: loss,mse\n",
      "37/37 [==============================] - 3s 76ms/step - loss: 6.3106e-05 - mse: 6.3106e-05\n",
      "Epoch 64/70\n",
      "37/37 [==============================] - ETA: 0s - loss: 6.6301e-05 - mse: 6.6301e-05WARNING:tensorflow:Early stopping conditioned on metric `val_loss` which is not available. Available metrics are: loss,mse\n",
      "37/37 [==============================] - 3s 84ms/step - loss: 6.6301e-05 - mse: 6.6301e-05\n",
      "Epoch 65/70\n",
      "37/37 [==============================] - ETA: 0s - loss: 7.2099e-05 - mse: 7.2099e-05WARNING:tensorflow:Early stopping conditioned on metric `val_loss` which is not available. Available metrics are: loss,mse\n",
      "37/37 [==============================] - 3s 85ms/step - loss: 7.2099e-05 - mse: 7.2099e-05\n",
      "Epoch 66/70\n",
      "37/37 [==============================] - ETA: 0s - loss: 7.2326e-05 - mse: 7.2326e-05WARNING:tensorflow:Early stopping conditioned on metric `val_loss` which is not available. Available metrics are: loss,mse\n",
      "37/37 [==============================] - 3s 86ms/step - loss: 7.2326e-05 - mse: 7.2326e-05\n",
      "Epoch 67/70\n",
      "37/37 [==============================] - ETA: 0s - loss: 6.5356e-05 - mse: 6.5356e-05WARNING:tensorflow:Early stopping conditioned on metric `val_loss` which is not available. Available metrics are: loss,mse\n",
      "37/37 [==============================] - 3s 77ms/step - loss: 6.5356e-05 - mse: 6.5356e-05\n",
      "Epoch 68/70\n",
      "37/37 [==============================] - ETA: 0s - loss: 7.7489e-05 - mse: 7.7489e-05WARNING:tensorflow:Early stopping conditioned on metric `val_loss` which is not available. Available metrics are: loss,mse\n",
      "37/37 [==============================] - 3s 73ms/step - loss: 7.7489e-05 - mse: 7.7489e-05\n",
      "Epoch 69/70\n",
      "37/37 [==============================] - ETA: 0s - loss: 7.2460e-05 - mse: 7.2460e-05WARNING:tensorflow:Early stopping conditioned on metric `val_loss` which is not available. Available metrics are: loss,mse\n",
      "37/37 [==============================] - 3s 77ms/step - loss: 7.2460e-05 - mse: 7.2460e-05\n",
      "Epoch 70/70\n",
      "37/37 [==============================] - ETA: 0s - loss: 6.7123e-05 - mse: 6.7123e-05WARNING:tensorflow:Early stopping conditioned on metric `val_loss` which is not available. Available metrics are: loss,mse\n",
      "37/37 [==============================] - 3s 71ms/step - loss: 6.7123e-05 - mse: 6.7123e-05\n",
      "1470/1470 [==============================] - 3s 2ms/step - loss: 4.2792e-04 - mse: 4.2792e-04\n",
      "loss: 0.0004279213026165962\n"
     ]
    }
   ],
   "source": [
    "#MSE를 Loss함수로 하여 컴파일한다\n",
    "model.compile(loss='mse', optimizer='adam', metrics=['mse'])\n",
    "\n",
    "from keras.callbacks import EarlyStopping\n",
    "early_stopping = EarlyStopping(patience=20)\n",
    "model.fit(x1_train, y1_train, epochs=70, batch_size=100, validation_split=0, callbacks=[early_stopping])\n",
    "\n",
    "loss, mse = model.evaluate(x1_test, y1_test, batch_size=1)\n",
    "print('loss:', loss)"
   ]
  },
  {
   "cell_type": "code",
   "execution_count": 175,
   "metadata": {
    "id": "o1hKkeB9t064"
   },
   "outputs": [],
   "source": [
    "#예측값과 실제값에 대한 array real, forecast 생성\n",
    "y_pred = model.predict(x1_test)\n",
    "real = np.concatenate((y1_train,y1_test))\n",
    "forecast = np.concatenate((y1_train,y_pred1))"
   ]
  },
  {
   "cell_type": "code",
   "execution_count": 176,
   "metadata": {
    "colab": {
     "base_uri": "https://localhost:8080/"
    },
    "id": "h97L2Du8_pd2",
    "outputId": "b68f3683-5133-42c2-ac64-153a1dfaf098"
   },
   "outputs": [
    {
     "data": {
      "text/plain": [
       "array([[0.05815318],\n",
       "       [0.06820848],\n",
       "       [0.06820848],\n",
       "       ...,\n",
       "       [0.9498077 ],\n",
       "       [0.95790249],\n",
       "       [0.96140385]])"
      ]
     },
     "execution_count": 176,
     "metadata": {},
     "output_type": "execute_result"
    }
   ],
   "source": [
    "real\n",
    "forecast"
   ]
  },
  {
   "cell_type": "code",
   "execution_count": 177,
   "metadata": {
    "colab": {
     "base_uri": "https://localhost:8080/",
     "height": 282
    },
    "id": "iQJg-41Ut068",
    "outputId": "63d4b051-55b1-4119-b238-e1a814c9a705"
   },
   "outputs": [
    {
     "data": {
      "text/plain": [
       "<matplotlib.legend.Legend at 0x2851b249708>"
      ]
     },
     "execution_count": 177,
     "metadata": {},
     "output_type": "execute_result"
    },
    {
     "data": {
      "image/png": "[encoded data removed]",
      "text/plain": [
       "<Figure size 432x288 with 1 Axes>"
      ]
     },
     "metadata": {
      "needs_background": "light"
     },
     "output_type": "display_data"
    }
   ],
   "source": [
    "#Plot real & forecast\n",
    "plt.plot(real, label='real')\n",
    "plt.plot(forecast, label='forecast')\n",
    "plt.legend()"
   ]
  },
  {
   "cell_type": "code",
   "execution_count": 178,
   "metadata": {
    "colab": {
     "base_uri": "https://localhost:8080/",
     "height": 282
    },
    "id": "bT78gBK3t07A",
    "outputId": "3dc990fb-60d2-4ea5-d058-7f505ae66563"
   },
   "outputs": [
    {
     "data": {
      "text/plain": [
       "<matplotlib.legend.Legend at 0x2850fca8b08>"
      ]
     },
     "execution_count": 178,
     "metadata": {},
     "output_type": "execute_result"
    },
    {
     "data": {
      "image/png": "[encoded data removed]",
      "text/plain": [
       "<Figure size 432x288 with 1 Axes>"
      ]
     },
     "metadata": {
      "needs_background": "light"
     },
     "output_type": "display_data"
    }
   ],
   "source": [
    "#예측한 부분만 추출하여 보기\n",
    "plt.plot(y1_test, label='real')\n",
    "plt.plot(y_pred, label='forecast')\n",
    "plt.legend()"
   ]
  },
  {
   "cell_type": "code",
   "execution_count": 179,
   "metadata": {
    "colab": {
     "base_uri": "https://localhost:8080/"
    },
    "id": "W5GnaHr8t07D",
    "outputId": "d963bea3-6cb2-4db3-f8ab-a9113c22a45a"
   },
   "outputs": [
    {
     "data": {
      "text/plain": [
       "array([[29856.074],\n",
       "       [29856.607],\n",
       "       [29828.197],\n",
       "       ...,\n",
       "       [58845.586],\n",
       "       [59563.465],\n",
       "       [60040.938]], dtype=float32)"
      ]
     },
     "execution_count": 179,
     "metadata": {},
     "output_type": "execute_result"
    }
   ],
   "source": [
    "#예측한 값을 inverse scaling을 통해 원 단위로 바꿔준다\n",
    "forecast = reverse_min_max_scaling(target, y_pred)\n",
    "real = reverse_min_max_scaling(target, y1_test)\n",
    "\n",
    "forecast"
   ]
  },
  {
   "cell_type": "code",
   "execution_count": 180,
   "metadata": {
    "colab": {
     "base_uri": "https://localhost:8080/",
     "height": 282
    },
    "id": "-PCfzNREZN9S",
    "outputId": "d399a95b-7bba-4047-ebdb-c3474eba16c7",
    "scrolled": false
   },
   "outputs": [
    {
     "data": {
      "text/plain": [
       "<matplotlib.legend.Legend at 0x28516ea5ec8>"
      ]
     },
     "execution_count": 180,
     "metadata": {},
     "output_type": "execute_result"
    },
    {
     "data": {
      "image/png": "[encoded data removed]",
      "text/plain": [
       "<Figure size 432x288 with 1 Axes>"
      ]
     },
     "metadata": {
      "needs_background": "light"
     },
     "output_type": "display_data"
    }
   ],
   "source": [
    "plt.plot(real, label='real')\n",
    "plt.plot(forecast, label='forecast')\n",
    "\n",
    "plt.legend()"
   ]
  }
 ],
 "metadata": {
  "colab": {
   "collapsed_sections": [],
   "name": "1201_석 (2).ipynb",
   "provenance": []
  },
  "kernelspec": {
   "display_name": "Python [conda env:tf2.3] *",
   "language": "python",
   "name": "conda-env-tf2.3-py"
  },
  "language_info": {
   "codemirror_mode": {
    "name": "ipython",
    "version": 3
   },
   "file_extension": ".py",
   "mimetype": "text/x-python",
   "name": "python",
   "nbconvert_exporter": "python",
   "pygments_lexer": "ipython3",
   "version": "3.7.9"
  }
 },
 "nbformat": 4,
 "nbformat_minor": 1
}
